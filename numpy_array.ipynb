{
  "nbformat": 4,
  "nbformat_minor": 0,
  "metadata": {
    "colab": {
      "provenance": [],
      "authorship_tag": "ABX9TyPojZUTaOn3+dcLpYRCvcL8",
      "include_colab_link": true
    },
    "kernelspec": {
      "name": "python3",
      "display_name": "Python 3"
    },
    "language_info": {
      "name": "python"
    }
  },
  "cells": [
    {
      "cell_type": "markdown",
      "metadata": {
        "id": "view-in-github",
        "colab_type": "text"
      },
      "source": [
        "<a href=\"https://colab.research.google.com/github/Bellioni/Hello-Data/blob/main/numpy_array.ipynb\" target=\"_parent\"><img src=\"https://colab.research.google.com/assets/colab-badge.svg\" alt=\"Open In Colab\"/></a>"
      ]
    },
    {
      "cell_type": "code",
      "source": [
        "# import numpy\n",
        "import numpy as np\n",
        "\n",
        "# looping & printing a 1d array\n",
        "arr1 = np.array([1, 2, 3, 4])\n",
        "print(arr1)\n",
        "\n",
        "#display the shape(dimensions) of the array\n",
        "print(np.shape(arr1))\n",
        "\n",
        "# loop through the 1 dimensional array\n",
        "for i in range(np.shape(arr1)[0]):\n",
        "    print(arr1[i])\n",
        "\n",
        "# This is an example of a two dimensional array\n",
        "arr2 = np.array([[1, 2, 3, 4, 5], [6, 7, 8, 9, 10]])\n",
        "print(arr2)\n",
        "print(np.shape(arr2))\n",
        "\n",
        "# two nested loops to access all elements of\n",
        "# the two dimensional array arr2\n",
        "for ii in range(np.shape(arr2)[0]):\n",
        "    for jj in range(np.shape(arr2)[1]):\n",
        "        print(arr2[ii, jj])\n",
        "\n",
        "# Now, create a 3-dimensional array\n",
        "arr3 = np.array([\n",
        "    [[1, 2, 3], [4, 5, 6]],\n",
        "    [[7, 8, 9], [10, 11, 12]]\n",
        "])\n",
        "print(arr3)\n",
        "print(np.shape(arr3))  # Should print (2, 2, 3)\n",
        "\n",
        "# three nested loops to access all elements of the 3D array arr3\n",
        "for i in range(np.shape(arr3)[0]):\n",
        "    for j in range(np.shape(arr3)[1]):\n",
        "        for k in range(np.shape(arr3)[2]):\n",
        "            print(arr3[i, j, k])\n",
        "\n"
      ],
      "metadata": {
        "id": "OlD5zDCTdVxj"
      },
      "execution_count": null,
      "outputs": []
    },
    {
      "cell_type": "code",
      "source": [
        "1# import matplotlib & pandas\n",
        "import matplotlib.pyplot as plt\n",
        "import pandas as pd\n",
        "\n",
        "2# Read gapminder_gdp_asia.csv\n",
        "data = pd.read_csv('gapminder_gdp_asia.csv', index_col= 'country')\n",
        "\n",
        "3# Extract years from colunm\n",
        "years = data.columns.str.strip('gdpPercap_')\n",
        "\n",
        "4# Convert year values to integers, saving results back to dataframe\n",
        "data.columns = years.astype(int)\n",
        "\n",
        "5# Plot China and india GDP from 1952-2007\n",
        "data.loc['China'].plot()\n",
        "data.loc['India'].plot()\n",
        "\n",
        "#6 Labelling\n",
        "plt.title('GDP of China vs. India from 1952 to 2007')\n",
        "plt.legend(['China', 'India'], loc='lower right')\n",
        "plt.ylabel('GDP per capita')\n",
        "plt.xlabel('Years')\n",
        "plt.savefig('my_figure.png')\n",
        "\n",
        "#7 Plot the results\n",
        "plt.show()\n"
      ],
      "metadata": {
        "id": "bMvF8vGCsUe3"
      },
      "execution_count": null,
      "outputs": []
    },
    {
      "cell_type": "code",
      "source": [
        "1# import pandas\n",
        "import pandas as pd\n",
        "import matplotlib.pyplot as plt\n",
        "\n",
        "2# Read gapminder_all.csv\n",
        "data_all = pd.read_csv('gapminder_all.csv', index_col= 'country')\n",
        "\n",
        "3# Create scatter plot for 2007 GDP per capita vs life expectancy\n",
        "ax = data_all.plot(kind='scatter',\n",
        "                    x='gdpPercap_2007',\n",
        "                    y='lifeExp_2007',\n",
        "                    s=data_all['pop_2007']/1e6, figsize=(16, 8))\n",
        "4# Labelling\n",
        "ax.set_xlabel('GDP per Capita in 2007')\n",
        "ax.set_ylabel('Life Expectancy in 2007')\n",
        "ax.set_title('Correlation between GDP per Capita and Life Expectancy (2007)\\nMarker size proportional to Population')\n",
        "plt.savefig('my_figure.png')\n",
        "\n",
        "5# Plot the results\n",
        "plt.show()\n"
      ],
      "metadata": {
        "id": "jG_Yvxvs50k2"
      },
      "execution_count": null,
      "outputs": []
    }
  ]
}